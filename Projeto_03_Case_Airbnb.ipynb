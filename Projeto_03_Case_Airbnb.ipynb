{
  "nbformat": 4,
  "nbformat_minor": 0,
  "metadata": {
    "colab": {
      "provenance": [],
      "authorship_tag": "ABX9TyOoK997K1aWrVat7emrr3k2",
      "include_colab_link": true
    },
    "kernelspec": {
      "name": "python3",
      "display_name": "Python 3"
    },
    "language_info": {
      "name": "python"
    }
  },
  "cells": [
    {
      "cell_type": "markdown",
      "metadata": {
        "id": "view-in-github",
        "colab_type": "text"
      },
      "source": [
        "<a href=\"https://colab.research.google.com/github/denerramosmk/Bootcamp_analistadados_SoulCode/blob/main/Projeto_03_Case_Airbnb.ipynb\" target=\"_parent\"><img src=\"https://colab.research.google.com/assets/colab-badge.svg\" alt=\"Open In Colab\"/></a>"
      ]
    },
    {
      "cell_type": "markdown",
      "source": [
        "## **Projeto 03 - Case Airbnb**"
      ],
      "metadata": {
        "id": "FFv0zO52XN2O"
      }
    },
    {
      "cell_type": "markdown",
      "source": [
        "**Escola:** SoulCode Academy\n",
        "\n",
        "**Curso:** Bootcamp Analista de Dados - Martech - AD2\n",
        "\n",
        "**Professores:** Franciane Rodrigues\n",
        "\n",
        "**Aluno:** Dener Ramos"
      ],
      "metadata": {
        "id": "c9-zn6rDXNDw"
      }
    },
    {
      "cell_type": "markdown",
      "source": [
        "## **Objetivo**\n"
      ],
      "metadata": {
        "id": "9vIR8riKXxyT"
      }
    },
    {
      "cell_type": "markdown",
      "source": [
        "Nível - Tratamento e Análise\n",
        "* Verificar todos os passos da estratégia de análise geral de dados;\n",
        "* Executar o que for necessário;\n",
        "* Todos os passos devem ser comentados;\n",
        "* Realizar no mínimo 3 análises apenas numéricas;\n",
        "* Realizar plotagens para no mínimo 3 análises;\n",
        "* Chegar a uma conclusão de sua análise;\n",
        "\n",
        "Nivel Infra\n",
        "\n",
        "* O Dataset deve ser salvo em ambiente local  (Google Drive) - (bruto e tratado)\n",
        "* O Dataset deve ser salvo em ambiente cloud (Cloud Storage) - (bruto e tratado) (será mostrado em aula!)\n",
        "* O Arquivo original e tratado deve ser salvo em MongoDB Atlas em coleções diferentes (será mostrado em aula!)"
      ],
      "metadata": {
        "id": "COeqPXX6X1SX"
      }
    },
    {
      "cell_type": "markdown",
      "source": [
        "## **Base de Dados**\n",
        "\n",
        "Base de dados com dados de contratações do serviço Airbnb  incluindo preço, tipo de quarto, status do host, e informação de localização.\n",
        "\n",
        "**Colunas do Dataset:**\n",
        "\n",
        "[nome original] - [nome traduzido] : [descrição]\n",
        "\n",
        "* realSum - preço : \tO valor total pago pela reserva em euros\n",
        "\n",
        "* room_type - tipo_quarto : O tipo de quarto ofertado (pode ser: quarto privado, quarto compartilhado, casa/apt completo)\n",
        "\n",
        "* room_shared - compartilhado : Informa se o quarto é compartilhado ou não\n",
        "\n",
        "* person_capacity - capacidade : O máximo de pessoas que podem ser acomodadas em uma única reserva\n",
        "\n",
        "* host_is_superhost - superhost : Informa se a reserva é de um Superhost da plataforma\n",
        "\n",
        "* cleanliness_rating - limpeza : Avaliação relacionada a limpeza dada pelos hóspedes\n",
        "\n",
        "* guest_satisfaction_overall - nota :\tAvaliação geral do hóspede sobre sua estadia\n",
        "\n",
        "* bedrooms - quartos : Número de quartos disponíveis para reserva\n",
        "\n",
        "* dist - distancia_centro :\tDistância em quilômetros da reserva para o centro da cidade\n",
        "\n",
        "* metro_dist - metro_dist :\tDistância em quilômetros da reserva para a estação de metrô mais próxima\n",
        "\n",
        "\n",
        "Drops:\n",
        "* room_private : Informa se o quarto é privado ou não\n",
        "* biz :\tInforma se a reserva oferece suporte para negócios como uma sala de conferências.\n",
        "* multi : Indica disponibilidade de múltiplos quartos dentro de um único anúncio. (um apartamento pode ter dois quartos disponíveis para aluguel)\n",
        "* lng\t: Longitude de cada reserva\n",
        "* lat\t: Latitude de cada reserva\n",
        "* attr_index_norm\n",
        "* rest_index\n",
        "* rest_index_norm\n",
        "\n"
      ],
      "metadata": {
        "id": "vgbQq-Mvc6C8"
      }
    },
    {
      "cell_type": "markdown",
      "source": [
        "##### Material de consulta:\n",
        "* https://zenodo.org/record/4446043#.Y9Y9ENJBwUE\n",
        "* https://www.kaggle.com/datasets/thedevastator/airbnb-price-determinants-in-europe"
      ],
      "metadata": {
        "id": "NuafQkaB6xnm"
      }
    },
    {
      "cell_type": "markdown",
      "source": [
        "###### **Pergunta de negócio**\n",
        "\n",
        "Faça uma análise exploratória de dados com a base de dados do Airbnb e indique possíveis oportunidades e/ou ameaças para o empreendimento.\n",
        "\n",
        "Análise de base de dados Airbnb, utilizando python e suas bibliotecas para identificar pontos de melhoria ou de atenção que possam ser observados através dos dados.\n",
        "\n",
        "* medidas descritivas de preço, nota limpeza e nota geral (talvez distancia do centro)\n",
        "* grafico preço boxsplot\n",
        "\n",
        "\n"
      ],
      "metadata": {
        "id": "C4wZ73LKIWXY"
      }
    },
    {
      "cell_type": "code",
      "execution_count": null,
      "metadata": {
        "id": "49dYK4ksWVHJ"
      },
      "outputs": [],
      "source": [
        "# Instalação de bibliotecas adicionais\n",
        "!pip install gcsfs\n",
        "!pip install pandera"
      ]
    },
    {
      "cell_type": "code",
      "source": [
        "# Abertura de bibliotecas\n",
        "import os\n",
        "import pandas as pd\n",
        "import numpy as np\n",
        "import pandera as pa\n",
        "import seaborn as sns\n",
        "import matplotlib.pyplot as plt\n",
        "from scipy.stats import pearsonr\n",
        "from  google.cloud import storage"
      ],
      "metadata": {
        "id": "JKOc4MzKYKai"
      },
      "execution_count": null,
      "outputs": []
    },
    {
      "cell_type": "code",
      "source": [
        "# CONFIGURANDO DA CHAVE DE SEGURANCA - ACESSO O PROJETO\n",
        "serviceAccount = '/content/Chave.json'\n",
        "os.environ['GOOGLE_APPLICATION_CREDENTIALS'] = serviceAccount"
      ],
      "metadata": {
        "id": "tU2XulXZObZm"
      },
      "execution_count": null,
      "outputs": []
    },
    {
      "cell_type": "code",
      "source": [
        "# Configurações Google Cloud Storage - ACESSO AO BUCKET\n",
        "client = storage.Client()\n",
        "bucket = client.get_bucket('kraftwerk')\n",
        "bucket.blob('airbnb.csv')\n",
        "path = 'gs://kraftwerk/projeto_airbnb/bruto/airbnb.csv'"
      ],
      "metadata": {
        "id": "i2U-uea-OfqF"
      },
      "execution_count": null,
      "outputs": []
    },
    {
      "cell_type": "code",
      "source": [
        "# Abertura da base de dados e cópia de segurança (bucket)\n",
        "df = pd.read_csv(path)\n",
        "backup1 = df.copy()"
      ],
      "metadata": {
        "id": "7YXrD_D2Oh5q"
      },
      "execution_count": null,
      "outputs": []
    },
    {
      "cell_type": "code",
      "source": [
        "# Comando de abertura para Google Drive\n",
        "#from google.colab import drive\n",
        "#drive.mount('/content/drive')"
      ],
      "metadata": {
        "id": "2Yfe_t1VabJ5"
      },
      "execution_count": null,
      "outputs": []
    },
    {
      "cell_type": "code",
      "source": [
        "# Configuração da quantidade de colunas para aparecer em um DataFrame\n",
        "pd.set_option('display.max_columns',50) # pd chama a biblioteca pandas, definindo o máximo de colunas a serem exibidas em 50"
      ],
      "metadata": {
        "id": "ACxMbCEPZQbK"
      },
      "execution_count": null,
      "outputs": []
    },
    {
      "cell_type": "code",
      "source": [
        "# Definindo o dataframe\n",
        "#df = pd.read_csv('/content/drive/MyDrive/airbnb.csv')"
      ],
      "metadata": {
        "id": "L24FP4EdaAcK"
      },
      "execution_count": null,
      "outputs": []
    },
    {
      "cell_type": "code",
      "source": [
        "#backup1 = df.copy() # Criando backup antes de qualquer alteração na tabela\n"
      ],
      "metadata": {
        "id": "39EYIN-Qat1y"
      },
      "execution_count": null,
      "outputs": []
    },
    {
      "cell_type": "markdown",
      "source": [
        "A tabela não possui valores diretamente repetidos.\n",
        "Aparentemente os valores 'room_shared' e 'room_private' são apenas o oposto um do outro, um indicando se o quarto é o quarto é compartilhado e o outro indicando se é um quarto individual, respectivamente.\n",
        "\n",
        "Os valores 'attr_index_norm', 'rest_index' e 'rest_index_norm' não possuem documentação no dicionário e não parecem ser necessárias para essa análise.\n",
        "\n"
      ],
      "metadata": {
        "id": "alEq-0krQOI0"
      }
    },
    {
      "cell_type": "code",
      "source": [],
      "metadata": {
        "id": "6h928PSrQN61"
      },
      "execution_count": null,
      "outputs": []
    },
    {
      "cell_type": "code",
      "source": [
        "ftcompartilhado = df.room_shared == True\n",
        "ftprivado = df.room_private == True\n",
        "\n",
        "df.loc[ftcompartilhado & ftprivado]\n",
        "\n",
        "#Podemos dropar uma das colunas"
      ],
      "metadata": {
        "id": "cKf7-vt9OwD2"
      },
      "execution_count": null,
      "outputs": []
    },
    {
      "cell_type": "code",
      "source": [
        "# Visualiza valores unicos para ver inconsistências. Utilize a função sorted() para ordenação\n",
        "print(sorted(pd.unique(df['realSum'])))\n",
        "print(sorted(pd.unique(df['room_type'])))\n",
        "print(sorted(pd.unique(df['room_shared'])))\n",
        "print(sorted(pd.unique(df['room_private'])))\n",
        "print(sorted(pd.unique(df['person_capacity'])))\n",
        "print(sorted(pd.unique(df['host_is_superhost'])))\n",
        "print(sorted(pd.unique(df['multi'])))\n",
        "print(sorted(pd.unique(df['biz'])))\n",
        "print(sorted(pd.unique(df['cleanliness_rating'])))\n",
        "print(sorted(pd.unique(df['guest_satisfaction_overall'])))\n",
        "print(sorted(pd.unique(df['bedrooms'])))\n",
        "print(sorted(pd.unique(df['dist'])))\n",
        "print(sorted(pd.unique(df['metro_dist'])))\n"
      ],
      "metadata": {
        "id": "jsp341ANidRO"
      },
      "execution_count": null,
      "outputs": []
    },
    {
      "cell_type": "code",
      "source": [
        "# Drops\n",
        "df.drop(['attr_index',\n",
        "         'attr_index_norm',\n",
        "         'rest_index',\n",
        "         'rest_index_norm',\n",
        "         'lng', # Dropando agora, depois de fazer o básico tentar usar\n",
        "         'lat', # Dropando agora, depois de fazer o básico tentar usar\n",
        "         'room_private', # Já temos uma coluna que marca se o quarto é compartilhado\n",
        "         'multi', # Indica se o aluguel é para vários quartos, dropada por não se encaixar na análise que estou fazendo\n",
        "         'biz'],axis=1, inplace = True) # Indica se o aluguel possui suporte para encontros empresariais, dropada por não se encaixar na análise que estou fazendo"
      ],
      "metadata": {
        "id": "wlpxk9pqh_Da"
      },
      "execution_count": null,
      "outputs": []
    },
    {
      "cell_type": "code",
      "source": [
        "df.dtypes"
      ],
      "metadata": {
        "id": "NwhJB4R5p51y"
      },
      "execution_count": null,
      "outputs": []
    },
    {
      "cell_type": "code",
      "source": [
        "# Traduções\n",
        "df.rename(columns = {'realSum':\"preço\",\n",
        "                     'room_type':'tipo_quarto',\n",
        "                     'room_shared':'compartilhado',\n",
        "                     'person_capacity':'capacidade',\n",
        "                     'host_is_superhost':'superhost',\n",
        "                     'cleanliness_rating':'limpeza',\n",
        "                     'guest_satisfaction_overall':'nota',\n",
        "                     'bedrooms':'quartos',\n",
        "                     'dist':'distancia_centro',\n",
        "                     'Unnamed: 0':'id',\n",
        "                     'metro_dist':'distancia_metro'}, inplace=True)\n",
        "\n",
        "# a função 'loc' irá localizar elementos e forçar a substituição do valor\n",
        "df.loc[df.tipo_quarto == 'Private room', ['tipo_quarto']] = 'Quarto privado'\n",
        "df.loc[df.tipo_quarto == 'Entire home/apt', ['tipo_quarto']] = 'Casa/Apt completo'\n",
        "df.loc[df.tipo_quarto == 'Shared room', ['tipo_quarto']] = 'Quarto compartilhado'"
      ],
      "metadata": {
        "id": "Ez2BgVk6p6vZ"
      },
      "execution_count": null,
      "outputs": []
    },
    {
      "cell_type": "code",
      "source": [
        "df.dtypes\n"
      ],
      "metadata": {
        "id": "_6NHENItk3L5"
      },
      "execution_count": null,
      "outputs": []
    },
    {
      "cell_type": "code",
      "source": [
        "#Correção dos tipos\n",
        "df['capacidade'] = df['capacidade'].astype(int)\n",
        "df['quartos'] = df['quartos'].astype(int)\n",
        "df['preço'] = df['preço'].astype(float)"
      ],
      "metadata": {
        "id": "4xS89jAnizLh"
      },
      "execution_count": null,
      "outputs": []
    },
    {
      "cell_type": "code",
      "source": [
        "#Arredondando valores\n",
        "df['preço'] = df['preço'].round(decimals=2)"
      ],
      "metadata": {
        "id": "x2EFPjrrnut6"
      },
      "execution_count": null,
      "outputs": []
    },
    {
      "cell_type": "code",
      "source": [
        "# SCHEMA\n",
        "schema = pa.DataFrameSchema({'preço': pa.Column(pa.Float),\n",
        "                            'tipo_quarto': pa.Column(pa.String),\n",
        "                            'compartilhado': pa.Column(pa.Bool),\n",
        "                            'capacidade': pa.Column(pa.Int),\n",
        "                            'superhost': pa.Column(pa.Bool),\n",
        "                            'limpeza': pa.Column(pa.Float),\n",
        "                            'nota': pa.Column(pa.Float),\n",
        "                            'distancia_centro': pa.Column(pa.Float),\n",
        "                            'distancia_metro': pa.Column(pa.Float),\n",
        "                            })\n",
        "\n",
        "# Validar o DataFrame\n",
        "schema.validate(df)"
      ],
      "metadata": {
        "id": "SusLquaJa3Ya"
      },
      "execution_count": null,
      "outputs": []
    },
    {
      "cell_type": "code",
      "source": [],
      "metadata": {
        "id": "gS4G5qaGnrUs"
      },
      "execution_count": null,
      "outputs": []
    },
    {
      "cell_type": "code",
      "source": [
        "# Carregamento\n",
        "backup2 = df.copy()\n",
        "df.to_csv('gs://kraftwerk/projeto_airbnb/tratado/airbnb_tratado.csv')"
      ],
      "metadata": {
        "id": "DEBGKrv_pRA3"
      },
      "execution_count": null,
      "outputs": []
    },
    {
      "cell_type": "code",
      "source": [
        "#medidas descritivas preço\n",
        "descritiva_preco = df.preço.describe()\n",
        "media_preco = descritiva_preco.loc['mean']  # média de preço\n",
        "mediana_preco = np.median(df.preço) #mediana de preço\n",
        "var_preco = df['preço'].var() # variância de preço\n",
        "desvio_padrao_preco = descritiva_preco.loc['std']  # desvio padrão de preço\n",
        "q1preco = descritiva_preco.loc['25%'] # Q1 de preço\n",
        "q3preco = descritiva_preco.loc['75%'] # Q3 de preço\n",
        "minimo_preco = descritiva_preco.loc['min']  # valor mínimo de preço\n",
        "maximo_preco = descritiva_preco.loc['max']  # valor máximo de preço\n",
        "amplitotal_preco = maximo_preco - minimo_preco # amplitude total de preço\n",
        "ampliq_preco = q3preco - q1preco # amplitude interquartilica de preço\n",
        "lsuperior_preco = q3preco + (1.5*ampliq_preco) # limite superior de preço\n",
        "linferior_preco = q1preco - (1.5*ampliq_preco) # limite inferior de preço\n",
        "\n",
        "print(f'''\\t Medidas Descritivas da Coluna Preço \\n A média da coluna é {media_preco:.2f} \\n A mediana é {mediana_preco:.2f}\n",
        "\\n A variância é {var_preco:.2f} \\n O desvio padrão é {desvio_padrao_preco:.2f}\n",
        "\\n O primeiro quartil é {q1preco:.2f} \\n O terceiro quartil é {q3preco:.2f}\n",
        "\\n O menor valor é {minimo_preco:.2f} \\n O maior valor é {maximo_preco:.2f}\n",
        "\\n A amplitude total é {amplitotal_preco:.2f} \\n A amplitude interquartílica é {ampliq_preco:.2f}\n",
        "\\n O limite superior é {lsuperior_preco:.2f} \\n O limite inferior {linferior_preco:.2f}''')"
      ],
      "metadata": {
        "id": "rUWcoa9-nWeO"
      },
      "execution_count": null,
      "outputs": []
    },
    {
      "cell_type": "code",
      "source": [
        "preco_acima = df.loc[df.preço >= 1178.7 ,['preço']]\n",
        "preco_acima.info()"
      ],
      "metadata": {
        "id": "4ALYoJnMuvVv"
      },
      "execution_count": null,
      "outputs": []
    },
    {
      "cell_type": "code",
      "source": [
        "#medidas descritivas limpeza\n",
        "descritiva_limpeza = df.limpeza.describe()\n",
        "media_limpeza = descritiva_limpeza.loc['mean'] # média de limpeza\n",
        "mediana_limpeza = np.median(df.limpeza) # mediana de limpeza\n",
        "var_limpeza = df['limpeza'].var() # variância de limpeza\n",
        "desvio_padrao_limpeza = descritiva_limpeza.loc['std'] # desvio padrão de limpeza\n",
        "q1limpeza = descritiva_limpeza.loc['25%'] # Q1 de limpeza\n",
        "q3limpeza = descritiva_limpeza.loc['75%'] # Q3 de limpeza\n",
        "minimo_limpeza = descritiva_limpeza.loc['min'] # valor mínimo de limpeza\n",
        "maximo_limpeza = descritiva_limpeza.loc['max'] # valor máximo de limpeza\n",
        "amplitotal_limpeza = maximo_limpeza - minimo_limpeza # amplitude total de limpeza\n",
        "ampliq_limpeza = q3limpeza - q1limpeza # amplitude interquartílica de limpeza\n",
        "lsuperior_limpeza = q3limpeza + (1.5 * ampliq_limpeza) # limite superior de limpeza\n",
        "linferior_limpeza = q1limpeza - (1.5 * ampliq_limpeza) # limite inferior de limpeza\n",
        "\n",
        "print(f'''\\t Medidas Descritivas da Coluna Limpeza \\n A média da coluna é {media_limpeza:.2f} \\n A mediana é {mediana_limpeza:.2f}\n",
        "\\n A variância é {var_limpeza:.2f} \\n O desvio padrão é {desvio_padrao_limpeza:.2f}\n",
        "\\n O primeiro quartil é {q1limpeza:.2f} \\n O terceiro quartil é {q3limpeza:.2f}\n",
        "\\n O menor valor é {minimo_limpeza:.2f} \\n O maior valor é {maximo_limpeza:.2f}\n",
        "\\n A amplitude total é {amplitotal_limpeza:.2f} \\n A amplitude interquartílica é {ampliq_limpeza:.2f}\n",
        "\\n O limite superior é {lsuperior_limpeza:.2f} \\n O limite inferior {linferior_limpeza:.2f}''')"
      ],
      "metadata": {
        "id": "JxLMxdQ_Twbc"
      },
      "execution_count": null,
      "outputs": []
    },
    {
      "cell_type": "markdown",
      "source": [],
      "metadata": {
        "id": "N0bLQ1iFwu42"
      }
    },
    {
      "cell_type": "code",
      "source": [
        "limpeza_abaixo = df.loc[df.limpeza < 7.50, ['limpeza']]\n",
        "limpeza_abaixo.info()"
      ],
      "metadata": {
        "id": "wFole9z2zNhR"
      },
      "execution_count": null,
      "outputs": []
    },
    {
      "cell_type": "code",
      "source": [
        "#medidas descritivas nota\n",
        "descritiva_nota = df.nota.describe()\n",
        "media_nota = descritiva_nota.loc['mean'] # média de nota\n",
        "mediana_nota = np.median(df.nota) # mediana de nota\n",
        "var_nota = df['nota'].var() # variância de nota\n",
        "desvio_padrao_nota = descritiva_nota.loc['std'] # desvio padrão de nota\n",
        "q1nota = descritiva_nota.loc['25%'] # Q1 de nota\n",
        "q3nota = descritiva_nota.loc['75%'] # Q3 de nota\n",
        "minimo_nota = descritiva_nota.loc['min'] # valor mínimo de nota\n",
        "maximo_nota = descritiva_nota.loc['max'] # valor máximo de nota\n",
        "amplitotal_nota = maximo_nota - minimo_nota # amplitude total de nota\n",
        "ampliq_nota = q3nota - q1nota # amplitude interquartílica de nota\n",
        "lsuperior_nota = q3nota + (1.5 * ampliq_nota) # limite superior de nota\n",
        "linferior_nota = q1nota - (1.5 * ampliq_nota) # limite inferior de nota\n",
        "\n",
        "print(f'''\\t Medidas Descritivas da Coluna Nota \\n A média da coluna é {media_nota:.2f} \\n A mediana é {mediana_nota:.2f}\n",
        "\\n A variância é {var_nota:.2f} \\n O desvio padrão é {desvio_padrao_nota:.2f}\n",
        "\\n O primeiro quartil é {q1nota:.2f} \\n O terceiro quartil é {q3nota:.2f}\n",
        "\\n O menor valor é {minimo_nota:.2f} \\n O maior valor é {maximo_nota:.2f}\n",
        "\\n A amplitude total é {amplitotal_nota:.2f} \\n A amplitude interquartílica é {ampliq_nota:.2f}\n",
        "\\n O limite superior é {lsuperior_nota:.2f} \\n O limite inferior {linferior_nota:.2f}''')"
      ],
      "metadata": {
        "id": "lban6GSkL0s8"
      },
      "execution_count": null,
      "outputs": []
    },
    {
      "cell_type": "code",
      "source": [
        "nota_abaixo = df.loc[df.nota < 83, ['nota']]\n",
        "nota_abaixo.info()"
      ],
      "metadata": {
        "id": "BRQdYcp3zfID"
      },
      "execution_count": null,
      "outputs": []
    },
    {
      "cell_type": "code",
      "source": [
        "preco_nota = pd.merge(df.preço, df.nota, on=df.id, how='inner') # Criando uma lista com preço e nota\n",
        "preco_limpeza = pd.merge(df.preço, df.limpeza, on=df.id, how='inner') # Criando uma lista com preço e limpeza\n",
        "nota_limpeza = pd.merge(df.nota, df.limpeza, on=df.id, how='inner') # Criando uma lista com preço e limpeza"
      ],
      "metadata": {
        "id": "ow82eO4Pz-zI"
      },
      "execution_count": null,
      "outputs": []
    },
    {
      "cell_type": "code",
      "source": [
        "ftpreco_nota = preco_nota.loc[(preco_nota.nota < 83) & (preco_nota.preço  >= 1177), ['nota', 'preço']] # 2 id\n",
        "ftpreco_limpeza = preco_limpeza.loc[(preco_limpeza.limpeza < 7.6) & (preco_limpeza.preço  >= 1177), ['limpeza', 'preço']] #nada\n",
        "nota_limpeza = nota_limpeza.loc[(nota_limpeza.limpeza < 7.6) & (nota_limpeza.nota  <83), ['limpeza', 'nota']] #nada\n"
      ],
      "metadata": {
        "id": "94s2Ijk_3Yjm"
      },
      "execution_count": null,
      "outputs": []
    },
    {
      "cell_type": "code",
      "source": [
        "ftpreco_nota"
      ],
      "metadata": {
        "id": "A3bEViOD3y6p"
      },
      "execution_count": null,
      "outputs": []
    },
    {
      "cell_type": "code",
      "source": [
        "# Eliminando outliers\n",
        "df.drop(df[df.preço >= 1178.7].index, axis=0, inplace=True) # Não há valores negativos para tratamento do limite inferior\n",
        "df.drop(df[df.limpeza < 7.50].index, axis=0, inplace=True) # Não há notas acima de 10 para tratamento do limite superior\n",
        "df.drop(df[df.nota < 83].index, axis=0, inplace=True) # Não há notas acima de 100 para tratamento do limite superior\n",
        "\n"
      ],
      "metadata": {
        "id": "ZNQjC7MYvKO8"
      },
      "execution_count": null,
      "outputs": []
    },
    {
      "cell_type": "code",
      "source": [
        "# Gráfico de correlação de todos os elementos numéricos\n",
        "# Não consegui filtrar só os interessantes\n",
        "plt.figure(figsize=(14,8))\n",
        "sns.heatmap(df.corr(numeric_only=True), annot=True, cmap='Blues')"
      ],
      "metadata": {
        "id": "d5_Q-S_dUiwq"
      },
      "execution_count": null,
      "outputs": []
    },
    {
      "cell_type": "code",
      "source": [
        "grafico = {\n",
        "    'Nota': df.nota.head(100),\n",
        "    'Limpeza': df.limpeza.head(100),\n",
        "\n",
        "}\n",
        "ax = pd.DataFrame(grafico).plot.area(stacked=True)\n"
      ],
      "metadata": {
        "id": "BLCcakgyt3LB"
      },
      "execution_count": null,
      "outputs": []
    },
    {
      "cell_type": "code",
      "source": [
        "#grafico_barra = pd.DataFrame(\n",
        "#    {'Nota': df['nota'],\n",
        "#     'Limpeza': df['limpeza']}, index=(df['tipo_quarto']))\n",
        "#ax = grafico_barra.plot.bar(rot=90)\n",
        "\n",
        "# Deixei esse gráfico errado aqui pq ainda quero aprender como fazer ele funcionar"
      ],
      "metadata": {
        "id": "E2ljPhIeFrY5"
      },
      "execution_count": null,
      "outputs": []
    },
    {
      "cell_type": "code",
      "source": [
        "plt.figure(figsize=(10, 6))\n",
        "plt.scatter(df['distancia_centro'], df['preço'])\n",
        "plt.xlabel('Distância do Centro')\n",
        "plt.ylabel('Preço')\n",
        "plt.title('Relação entre Preço e Distância do Centro')\n",
        "plt.show()\n"
      ],
      "metadata": {
        "id": "TNpdX1iPB6kP"
      },
      "execution_count": null,
      "outputs": []
    },
    {
      "cell_type": "markdown",
      "source": [
        "##### Observações\n",
        "* É necessário prestar atenção aos outliers. São 56 reservas com preço acima do limite superior; 23 reservas com nota de limpeza abaixo do limite inferior; 48 reservas com nota abaixo do limite inferior. Ainda temos 2 id's que ao mesmo tempo acima do limite superior de preço e abaixo do limite inferior de nota. São 9.71% de outliers se destacando de maneira negativa.\n",
        "\n",
        "\n",
        "* A nota geral e a limpeza estão muito relacionadas.\n",
        "\n",
        "* Reservas feitas em quartos individuais, limpos, de um superhost e com mais quartos disponíveis recebem notas melhores.\n",
        "\n",
        "* A maior oferta de reservas está próxima ao centro, lá tambem estão os valores mais altos\n",
        "\n"
      ],
      "metadata": {
        "id": "WjWnAjoW6qkL"
      }
    }
  ]
}