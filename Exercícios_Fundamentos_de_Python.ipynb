{
  "nbformat": 4,
  "nbformat_minor": 0,
  "metadata": {
    "colab": {
      "provenance": [],
      "toc_visible": true,
      "authorship_tag": "ABX9TyNt10yQ1l/AaX+slnaDBZyq",
      "include_colab_link": true
    },
    "kernelspec": {
      "name": "python3",
      "display_name": "Python 3"
    },
    "language_info": {
      "name": "python"
    }
  },
  "cells": [
    {
      "cell_type": "markdown",
      "metadata": {
        "id": "view-in-github",
        "colab_type": "text"
      },
      "source": [
        "<a href=\"https://colab.research.google.com/github/denerramosmk/Bootcamp_analistadados_SoulCode/blob/main/Exerc%C3%ADcios_Fundamentos_de_Python.ipynb\" target=\"_parent\"><img src=\"https://colab.research.google.com/assets/colab-badge.svg\" alt=\"Open In Colab\"/></a>"
      ]
    },
    {
      "cell_type": "code",
      "execution_count": null,
      "metadata": {
        "id": "5V6jruapSmi2"
      },
      "outputs": [],
      "source": []
    },
    {
      "cell_type": "markdown",
      "source": [
        "**Escola:** SoulCode Academy\n",
        "\n",
        "**Curso:** Bootcamp Analista de Dados - Martech - AD2\n",
        "\n",
        "**Professores:** Franciance Rodrigues e Douglas Ribeiro\n",
        "\n",
        "**Aluno:** Dener Ramos"
      ],
      "metadata": {
        "id": "koqLkVwcSwp-"
      }
    },
    {
      "cell_type": "markdown",
      "source": [
        "## **Atividades:**\n",
        "1. Faça um algoritmo que leia um número inteiro e diga se ele é maior, menor ou igual a 10;\n",
        "2. Faça um algoritmo que leia dois números inteiros e apresente na tela o maior deles ou se eles são iguais;\n",
        "3. Crie um algoritmo que leia um número e diga se ele está no intervalo fechado entre 25 e 200;\n",
        "4. Crie um algoritmo que leia um número e informe na tela se o mesmo é positivo. Caso seja, mostre o número na tela;\n",
        "5. Crie um algoritmo que leia um número e informe se ele é divisível por 7.\n",
        "6. Crie um algoritmo que leia um número e diga se ele é par ou ímpar.\n",
        "7. Escreva um programa em Python que solicite ao usuário que digite uma letra. Em seguida, verifique se a letra digitada é uma vogal ou não.\n",
        "8. Escreva um programa que solicite ao usuário três notas de um aluno e calcule a média. Em seguida, exiba a média e uma mensagem informando se o aluno foi aprovado (média maior ou igual a 7) ou reprovado.\n",
        "9. Escreva um programa que solicite ao usuário os comprimentos dos três lados de um triângulo. Em seguida, exiba uma mensagem informando se o triângulo é equilátero (todos os lados iguais), isósceles (dois lados iguais) ou escaleno (todos os lados diferentes).\n",
        "10.  Escreva um programa que solicite ao usuário sua idade e exiba uma mensagem informando em qual faixa etária ele se encontra: criança (0-12 anos), adolescente (13-17 anos), adulto (18-59 anos) ou idoso (60 anos ou mais).\n"
      ],
      "metadata": {
        "id": "x2Dv0cbmTr5P"
      }
    },
    {
      "cell_type": "markdown",
      "source": [
        "##### Atividade 1\n",
        "\n",
        "Faça um algoritmo que leia um número inteiro e diga se ele é maior, menor ou igual a 10\n",
        "\n",
        "Algoritmo:\n",
        "1. Solicitar número para o usuário e armazenar em uma variável\n",
        "2. Verificar nas estruturas de condição se o número é igual, maior ou menor que 10\n",
        "3. Retornar a informação para o usuário"
      ],
      "metadata": {
        "id": "hmmyb4o5T-SD"
      }
    },
    {
      "cell_type": "markdown",
      "source": [],
      "metadata": {
        "id": "aZzWWdtGT6Ru"
      }
    },
    {
      "cell_type": "code",
      "source": [
        "numero1 = float(input(\"Informe o número que deseja verificar:\"))\n",
        "if numero1 == 10:\n",
        "  print('O número informado é igual a 10')\n",
        "elif numero1 >= 10:\n",
        "  print(f'O número {numero1} é maior que 10')\n",
        "else:\n",
        "  print(f'O número {numero1} é menor que 10')"
      ],
      "metadata": {
        "id": "Lf-HlLguTxER"
      },
      "execution_count": null,
      "outputs": []
    },
    {
      "cell_type": "markdown",
      "source": [
        "##### Atividade 2\n",
        "\n",
        "Faça um algoritmo que leia dois números inteiros e apresente na tela o maior deles ou se eles são iguais\n",
        "\n",
        "Algoritmo:\n",
        "1. Solicitar informação ao usuário e armazenar em variáveis\n",
        "2. Verificar nas estruturas de condições se os números possuem valor igual\n",
        "3. Caso não possuam valor igual, verificar qual o maior número\n",
        "4. Retornar a informação para o usuário"
      ],
      "metadata": {
        "id": "0239FlwKWoC6"
      }
    },
    {
      "cell_type": "code",
      "source": [
        "numero2a = int(input('Informe o primeiro valor:'))\n",
        "numero2b = int(input('Informe o segundo valor valor:'))\n",
        "if numero2a == numero2b:\n",
        "  print(f'Nos dois campos foi informado o número {numero2a}')\n",
        "elif numero2a >= numero2b:\n",
        "  print(f'O número {numero2a} é maior que o número {numero2b}')\n",
        "elif numero2b >= numero2a:\n",
        "  print(f'O número {numero2b} é maior que o número {numero2a}')\n",
        "else:\n",
        "  print('Complicou, não sei')"
      ],
      "metadata": {
        "id": "aYoge-yLXfHT"
      },
      "execution_count": null,
      "outputs": []
    },
    {
      "cell_type": "markdown",
      "source": [
        "##### Atividade 3\n",
        "\n",
        "Crie um algoritmo que leia um número e diga se ele está no intervalo fechado entre 25 e 200\n",
        "\n",
        "Algoritmo:\n",
        "1. Solicitar número para o usuário e armazenar em uma variável\n",
        "2. Verificar por estruturas de condição se o valor se encontra no intervalo informado\n",
        "3. Retornar informação ao usuário"
      ],
      "metadata": {
        "id": "qqRL2teyZ-EN"
      }
    },
    {
      "cell_type": "code",
      "source": [
        "numero3 = float(input('Informe o número que deseja verificar:'))\n",
        "if numero3 >= 199:\n",
        "  print(f'O número está acima de 200. Encerrando a verificação.')\n",
        "elif numero3 >=26:\n",
        "  print(f'O número informado está entre 25 e 200.')\n",
        "else:\n",
        "  print(f'O número informado está abaixo de 25. Encerrando a verificação.')\n"
      ],
      "metadata": {
        "id": "0utFwcKFaUZl"
      },
      "execution_count": null,
      "outputs": []
    },
    {
      "cell_type": "markdown",
      "source": [
        "##### Atividade 4\n",
        "\n",
        "Crie um algoritmo que leia um número e informe na tela se o mesmo é positivo. Caso seja, mostre o número na tela\n",
        "\n",
        "Algoritmo:\n",
        "1. Solicitar número ao usuário e armazenar na variável\n",
        "2. Verificar se o número informado é maior que 0\n",
        "3. Retornar informação para o usuário"
      ],
      "metadata": {
        "id": "B8Tbam2UjvkT"
      }
    },
    {
      "cell_type": "code",
      "source": [
        "numero4 = float(input('Informe o número:'))\n",
        "if numero4 > 0:\n",
        "  print(f'O número {numero4} é positivo')\n",
        "elif numero4 == 0:\n",
        "  print(f'O número 0 é neutro.')\n",
        "else:\n",
        "  print(f'O número informado é negativo')"
      ],
      "metadata": {
        "id": "jYn08Kiuo56H"
      },
      "execution_count": null,
      "outputs": []
    },
    {
      "cell_type": "markdown",
      "source": [
        "##### Atividade 5\n",
        "\n",
        "Crie um algoritmo que leia um número e informe se ele é divisível por 7\n",
        "\n",
        "Algoritmo:\n",
        "\n",
        "1. Solicitar o número para o usuário e armazenar na variável\n",
        "2. Verificar se em uma divisão por 7 o resto é igual a 0\n",
        "3. Retornar informação para o usuário"
      ],
      "metadata": {
        "id": "71-EBe6inWfL"
      }
    },
    {
      "cell_type": "code",
      "source": [
        "numero5 = int(input('Informe um número:'))\n",
        "if numero5 % 7 == 0:\n",
        "  print(f'O número {numero5} é divisível por 7')\n",
        "else:\n",
        "  print(f'O número {numero5} não é divisível por 7')"
      ],
      "metadata": {
        "id": "ndl1krbJqm6N"
      },
      "execution_count": null,
      "outputs": []
    },
    {
      "cell_type": "markdown",
      "source": [
        "##### Atividade 6\n",
        "\n",
        "Crie um algoritmo que leia um número e diga se ele é par ou ímpar.\n",
        "\n",
        "Algoritmo:\n",
        "\n",
        "1. Solicitar o número para o usuário e armazenar na variável\n",
        "2. Verificar se em uma divisão resto é igual a 0 (caso seja, o número é par)\n",
        "3. Retornar informação para o usuário"
      ],
      "metadata": {
        "id": "ZdSe88gynzk6"
      }
    },
    {
      "cell_type": "code",
      "source": [
        "numero6 = int(input('Informe um número:'))\n",
        "if numero6 % 2 == 0:\n",
        "  print(f'O número {numero6} é par')\n",
        "else:\n",
        "  print(f'O número {numero6} é ímpar')"
      ],
      "metadata": {
        "id": "qumPlM59fvji"
      },
      "execution_count": null,
      "outputs": []
    },
    {
      "cell_type": "markdown",
      "source": [
        "##### Atividade 7\n",
        "\n",
        "Escreva um programa em Python que solicite ao usuário que digite uma letra. Em seguida, verifique se a letra digitada é uma vogal ou não.\n",
        "\n",
        "Algoritmo:\n",
        "\n",
        "1. Solicitar a letra ao usuário\n",
        "2. Verificar se não se trata de um número\n",
        "3. Verificar se é uma vogal\n",
        "4. Retornar informação ao usuário"
      ],
      "metadata": {
        "id": "QItXNGxUnqzu"
      }
    },
    {
      "cell_type": "code",
      "source": [
        "letra= str(input('Informe uma letra:'))\n",
        "if letra in {'1','2','3','4','5','6','7','8','9','0'}:\n",
        "  print(f'\"{letra}\" é um caractere não permitido. Verificação encerrada.')\n",
        "elif letra in {'a', 'e', 'i', 'o', 'u'}:\n",
        "  print(f'{letra} é uma vogal')\n",
        "else:\n",
        "  print(f'{letra} é uma consoante')"
      ],
      "metadata": {
        "id": "crz8UiRDwdS6"
      },
      "execution_count": null,
      "outputs": []
    },
    {
      "cell_type": "markdown",
      "source": [
        "##### Atividade 8\n",
        "\n",
        "Escreva um programa que solicite ao usuário três notas de um aluno e calcule a média. Em seguida, exiba a média e uma mensagem informando se o aluno foi aprovado (média maior ou igual a 7) ou reprovado.\n",
        "\n",
        "Algoritmo:\n",
        "\n",
        "1. Solicitar as notas ao usuário e armazenar nas variáveis\n",
        "2. Tirar a média\n",
        "3. Verificar se o aluno está aprovado\n",
        "4. Retornar informação para o usuário"
      ],
      "metadata": {
        "id": "F1Cq8Llfng3U"
      }
    },
    {
      "cell_type": "code",
      "source": [
        "nota1 = float(input('Informe a primeira nota:'))\n",
        "nota2 = float(input('Informe a segunda nota:'))\n",
        "nota3 = float(input('Informe a terceira nota:'))\n",
        "media = (nota1 + nota2 + nota3) / 3\n",
        "if media <= 6:\n",
        "  print(f'A média {media} está abaixo da nota de corte. Aluno Reprovado')\n",
        "else:\n",
        "  print(f'A média {media} está acima da nota de corte. Aluno Aprovado')"
      ],
      "metadata": {
        "id": "vP-LuqJrnmL-"
      },
      "execution_count": null,
      "outputs": []
    },
    {
      "cell_type": "markdown",
      "source": [
        "##### Atividade 9\n",
        "\n",
        "Escreva um programa que solicite ao usuário os comprimentos dos três lados de um triângulo. Em seguida, exiba uma mensagem informando se o triângulo é equilátero (todos os lados iguais), isósceles (dois lados iguais) ou escaleno (todos os lados diferentes).\n",
        "\n",
        "Algoritmo:\n",
        "\n",
        "1. Solicitar as informações e armazenar nas variáveis\n",
        "2. Comparar as informações com as estruturas de condições\n",
        "3. Retornar a informação ao usuário"
      ],
      "metadata": {
        "id": "qriOLK53oJAM"
      }
    },
    {
      "cell_type": "code",
      "source": [
        "# Utilizando \"m\" como base de nome das variáveis para encurtar\n",
        "m1 = float(input('Informe a primeira medida:'))\n",
        "m2 = float(input('Informe a segunda medida:'))\n",
        "m3 = float(input('Informe a terceira medida:'))\n",
        "if m1 == (m2 and m3):\n",
        "  print(\"Este triângulo é equilátero\")\n",
        "elif m1 == (m2 or m3):\n",
        "  print(\"Este triângulo é isósceles\")\n",
        "elif m2 == (m1 or m3):\n",
        "  print(\"Este triângulo é isósceles2\")\n",
        "else:\n",
        "  print(\"Este triângulo é escaleno\")"
      ],
      "metadata": {
        "id": "LEH9Kz025ZLn"
      },
      "execution_count": null,
      "outputs": []
    },
    {
      "cell_type": "markdown",
      "source": [
        "##### Atividade 10\n",
        "\n",
        "Escreva um programa que solicite ao usuário sua idade e exiba uma mensagem informando em qual faixa etária ele se encontra: criança (0-12 anos), adolescente (13-17 anos), adulto (18-59 anos) ou idoso (60 anos ou mais)\n",
        "\n",
        "Algoritmo:\n",
        "\n",
        "1. Solicitar a idade ao usuário\n",
        "2. Verificar pelas estruturas de condições em que faixa etária ele se encaixa\n",
        "3. Retornar informação para o usuário"
      ],
      "metadata": {
        "id": "6y2AtPRToMth"
      }
    },
    {
      "cell_type": "code",
      "source": [
        "idade = int(input(\"Informe a idade:\"))\n",
        "if idade >= 60:\n",
        "  print(f'A pessoa com {idade} está na faixa etária dos idosos (60 anos ou mais)')\n",
        "elif idade >= 18:\n",
        "  print(f'A pessoa com {idade} está na faixa etária dos adultos (18-59 anos) ')\n",
        "elif idade >= 13:\n",
        "  print(f'A pessoa com {idade} está na faixa etária dos adolescentes (13-17 anos)')\n",
        "else:\n",
        "  print(f'A pessoa com {idade} está na faixa etária das crianças (0-12 anos)')"
      ],
      "metadata": {
        "id": "K6lHrjXcoOn4"
      },
      "execution_count": null,
      "outputs": []
    },
    {
      "cell_type": "code",
      "source": [],
      "metadata": {
        "id": "4cdPCtDJAHoI"
      },
      "execution_count": null,
      "outputs": []
    }
  ]
}